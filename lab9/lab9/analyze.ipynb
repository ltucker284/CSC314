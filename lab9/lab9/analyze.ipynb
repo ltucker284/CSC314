{
 "cells": [
  {
   "cell_type": "markdown",
   "metadata": {
    "deletable": false,
    "editable": false
   },
   "source": [
    "# Lab \\#9"
   ]
  },
  {
   "cell_type": "markdown",
   "metadata": {
    "deletable": false,
    "editable": false
   },
   "source": [
    "### Name:  (add name here)"
   ]
  },
  {
   "cell_type": "code",
   "execution_count": 36,
   "metadata": {},
   "outputs": [
    {
     "ename": "SyntaxError",
     "evalue": "invalid syntax (<ipython-input-36-2ac1b301b881>, line 1)",
     "output_type": "error",
     "traceback": [
      "\u001b[0;36m  File \u001b[0;32m\"<ipython-input-36-2ac1b301b881>\"\u001b[0;36m, line \u001b[0;32m1\u001b[0m\n\u001b[0;31m    Liz Tucker\u001b[0m\n\u001b[0m             ^\u001b[0m\n\u001b[0;31mSyntaxError\u001b[0m\u001b[0;31m:\u001b[0m invalid syntax\n"
     ]
    }
   ],
   "source": [
    "Liz Tucker"
   ]
  },
  {
   "cell_type": "markdown",
   "metadata": {
    "deletable": false,
    "editable": false
   },
   "source": [
    "We start by reading in the *promoters.fasta* file that contains the promoters of 78,850  sequences from human genes. The code creates a list named *sequences* that contains the 78,850 sequence records."
   ]
  },
  {
   "cell_type": "code",
   "execution_count": 37,
   "metadata": {
    "deletable": false,
    "editable": false
   },
   "outputs": [
    {
     "data": {
      "text/plain": [
       "78550"
      ]
     },
     "execution_count": 37,
     "metadata": {},
     "output_type": "execute_result"
    }
   ],
   "source": [
    "from Bio import SeqIO\n",
    "import re\n",
    "\n",
    "with open('promoters.fasta') as handle:\n",
    "    sequences = SeqIO.parse(handle, 'fasta')\n",
    "    sequences = list(sequences) # get the first sequence\n",
    "\n",
    "len(sequences)"
   ]
  },
  {
   "cell_type": "markdown",
   "metadata": {
    "deletable": false,
    "editable": false
   },
   "source": [
    "The code cell below finds the *id* of the first sequence, which has the format\n",
    "*hg38_ncbiRefSeqCurated_accession*, where *hg38* denotes that the data comes from the *h*uman *g*enome assembly version 38, and from the curated RefSeq database. The accession number is the unique id for the sequence record in the database. If the accession number begins with an *NM*, the record contains an mRNA sequence; if the accession number begins with an *NR*, it refers to a non-coding RNA (an RNA that is not translated into protein)."
   ]
  },
  {
   "cell_type": "code",
   "execution_count": 38,
   "metadata": {
    "deletable": false,
    "editable": false
   },
   "outputs": [
    {
     "data": {
      "text/plain": [
       "'hg38_ncbiRefSeqCurated_NM_001276352.2'"
      ]
     },
     "execution_count": 38,
     "metadata": {},
     "output_type": "execute_result"
    }
   ],
   "source": [
    "sequences[0].id"
   ]
  },
  {
   "cell_type": "markdown",
   "metadata": {
    "deletable": false,
    "editable": false
   },
   "source": [
    "### Question 1\n",
    "\n",
    "Use list comprehension to create and display a list that contains the ids of the first 5 sequences. Recall that using slicing, we can write `x[:5]` to get the first 5 elements of the list *x*."
   ]
  },
  {
   "cell_type": "code",
   "execution_count": 39,
   "metadata": {},
   "outputs": [
    {
     "data": {
      "text/plain": [
       "['hg38_ncbiRefSeqCurated_NM_001276352.2',\n",
       " 'hg38_ncbiRefSeqCurated_NM_001276351.2',\n",
       " 'hg38_ncbiRefSeqCurated_NR_075077.2',\n",
       " 'hg38_ncbiRefSeqCurated_NM_000299.3',\n",
       " 'hg38_ncbiRefSeqCurated_NM_001005337.3']"
      ]
     },
     "execution_count": 39,
     "metadata": {},
     "output_type": "execute_result"
    }
   ],
   "source": [
    "ids = [seq.id for seq in sequences[:5]]\n",
    "ids"
   ]
  },
  {
   "cell_type": "markdown",
   "metadata": {
    "deletable": false,
    "editable": false
   },
   "source": [
    "### Question 2\n",
    "\n",
    "Use list comprehension to create a list of sequence records containing only mRNA sequences (sequence records whose headers contain an *NM*), and name this list *sequences*. Display the number of sequence records that remain."
   ]
  },
  {
   "cell_type": "code",
   "execution_count": 44,
   "metadata": {},
   "outputs": [
    {
     "data": {
      "text/plain": [
       "18585"
      ]
     },
     "execution_count": 44,
     "metadata": {},
     "output_type": "execute_result"
    }
   ],
   "source": [
    "mrna_seqs = [seq for seq in sequences if 'NM' in seq.id]\n",
    "mrna_length = len(mrna_seqs)\n",
    "seq_length = len(sequences)\n",
    "seq_length - mrna_length"
   ]
  },
  {
   "cell_type": "markdown",
   "metadata": {
    "deletable": false,
    "editable": false
   },
   "source": [
    "In our discussion about gene expression (https://gdancik.github.io/CSC-314/data/notes/FromGeneToProtein.pdf), we learned about a conserved promoter element known as a TATA box. Transcription factors bind to the TATA box during the initiation phase of gene expression. This TATA box is found in about 40% of eukaryotic promoters. \n",
    "\n",
    "The TATA box has a consensus sequence that biologists write as \n",
    "\n",
    "$TATAWAWN$,\n",
    "\n",
    "where $W$ is an A or a T and $N$ is any character.\n",
    "\n",
    "The function below is designed to return True if the sequence in the sequence record *s* contains a TATA box. However the function looks specifically for *tataaaa*, which is found in many, but not all TATA box elements. Note that the second argument of *re.findall* must be a string, so the code below converts the sequence (stored as a Seq object) to a string using *str(s.seq)*.\n",
    "\n",
    "### Question 3\n",
    "Modify the function to replace 'tataaa' with a regular expression that corresponds to the consensus sequence above. Note that the sequence data is in lowercase."
   ]
  },
  {
   "cell_type": "code",
   "execution_count": 55,
   "metadata": {},
   "outputs": [],
   "source": [
    "def has_TATA_box (s) :\n",
    "    '''returns True if the sequence in seq_record 's' contains a TATA box'''\n",
    "    matches = re.findall('tata[at]a[at][a-z]', str(s.seq))\n",
    "    return len(matches) > 0"
   ]
  },
  {
   "cell_type": "markdown",
   "metadata": {},
   "source": [
    "The code below uses the above function and list comprehension to create a list of sequence IDs for sequences that contain a TATA box. We then display the percent of sequences containing a TATA box (this is around 3.70% for the sequence *tataaaa*, but around 25% for the consensus sequence above). Note that an *f-string* is used to format the percentage as a decimal with a precision of 2."
   ]
  },
  {
   "cell_type": "code",
   "execution_count": 56,
   "metadata": {
    "deletable": false,
    "editable": false
   },
   "outputs": [
    {
     "name": "stdout",
     "output_type": "stream",
     "text": [
      "Percent of promoters with TATA box: 25.11%\n"
     ]
    }
   ],
   "source": [
    "res = [s.id for s in sequences if has_TATA_box(s)]\n",
    "print(f'Percent of promoters with TATA box: {len(res) / len(sequences) * 100:.2f}%')"
   ]
  },
  {
   "cell_type": "markdown",
   "metadata": {
    "deletable": false,
    "editable": false
   },
   "source": [
    "The gene *TP53*, which codes for the protein p53, is a tumor suppressor protein sometimes referred to as the \"guardian of the genome\" because of its involvement in shutting down cell division when something goes wrong (like when DNA gets mutated). Failure to shut down cell division following DNA mutation can result in cancer. In fact, over 50% of solid tumors have mutations in p53.\n",
    "\n",
    "p53 is a *transcription factor* and regulates gene expression by binding to the promoter of a gene. Previous studies (https://www.ncbi.nlm.nih.gov/pmc/articles/PMC5291249/) have identified p53 binding sites, which contain 4 copies of the consensus sequence\n",
    "\n",
    "$RRRCWWGYYY$\n",
    "\n",
    "where $R$ is a purine (A or G), $W$ is an A or a T, and $Y$ is a pyrmidine (C or T).\n",
    "\n",
    "### Question 4\n",
    "\n",
    "Modify the function to replace 'gggaagg' with the regular expression corresponding to the consensus sequence above. "
   ]
  },
  {
   "cell_type": "code",
   "execution_count": 57,
   "metadata": {},
   "outputs": [],
   "source": [
    "def has_p53_binding_site(s) :\n",
    "    ''' returns True if 's' contains 2 or more p53 binding sites'''\n",
    "    matches = re.findall('[ag][ag][ag]c[at][at]g[ct][ct][ct]', str(s.seq))\n",
    "    return len(matches) > 1"
   ]
  },
  {
   "cell_type": "markdown",
   "metadata": {},
   "source": [
    "The code below uses the above function and list comprehension to create a list of sequence IDs for sequences that contain at least 2 candidate p53 binding sites, and displays the number of candidate target sequences. "
   ]
  },
  {
   "cell_type": "code",
   "execution_count": 58,
   "metadata": {
    "deletable": false,
    "editable": false
   },
   "outputs": [
    {
     "data": {
      "text/plain": [
       "1963"
      ]
     },
     "execution_count": 58,
     "metadata": {},
     "output_type": "execute_result"
    }
   ],
   "source": [
    "targets = [ s.id for s in sequences if has_p53_binding_site(s)]\n",
    "len(targets)"
   ]
  },
  {
   "cell_type": "markdown",
   "metadata": {
    "deletable": false,
    "editable": false
   },
   "source": [
    "### Question 5\n",
    "\n",
    "Use list comprehension to create a new *targets* list where each element contains the accession number (and only the accession number) for each target sequence. Note that each target sequence *id* has the format 'hg38_ncbiRefSeqCurated_NM_001145658.3', and the accession number is everything after 'hg38_ncbiRefSeqCurated_', e.g., 'NM_001145658.3'. Then iterate through the target list to output the first 10 accession numbers."
   ]
  },
  {
   "cell_type": "code",
   "execution_count": 77,
   "metadata": {},
   "outputs": [
    {
     "name": "stdout",
     "output_type": "stream",
     "text": [
      "NM001276352.2\n",
      "NM001276351.2\n",
      "NR075077.2\n",
      "NM000299.3\n",
      "NM001005337.3\n",
      "NM001042682.2\n",
      "NM012102.4\n",
      "NM001042681.2\n",
      "NM001281956.1\n",
      "NM052896.4\n"
     ]
    }
   ],
   "source": [
    "split_headers = [s.id.split('_') for s in sequences]\n",
    "targets = [s[2]+s[3] for s in split_headers]\n",
    "for i in range(0,10):\n",
    "    print(targets[i])"
   ]
  },
  {
   "cell_type": "markdown",
   "metadata": {
    "deletable": false,
    "editable": false
   },
   "source": [
    "### Conclusion\n",
    "\n",
    "The *targets* list now contains the accession numbers of sequence that are potential targets of p53. Such genes are likely important for cellular growth and may play a role in cancer. The next bioinformatics step (which we will not consider) would involve using tools such as the UCSC Table Browser (https://genome.ucsc.edu/) to map the accession numbers to the gene name and obtain information about each gene to prioritize the genes to look at. Biologists would then carry out experiments to see if p53 really does bind to the sequence. "
   ]
  }
 ],
 "metadata": {
  "kernelspec": {
   "display_name": "Python 3",
   "language": "python",
   "name": "python3"
  },
  "language_info": {
   "codemirror_mode": {
    "name": "ipython",
    "version": 3
   },
   "file_extension": ".py",
   "mimetype": "text/x-python",
   "name": "python",
   "nbconvert_exporter": "python",
   "pygments_lexer": "ipython3",
   "version": "3.7.4"
  }
 },
 "nbformat": 4,
 "nbformat_minor": 2
}
