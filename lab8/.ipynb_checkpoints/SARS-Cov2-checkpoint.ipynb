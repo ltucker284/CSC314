{
 "cells": [
  {
   "cell_type": "markdown",
   "metadata": {
    "deletable": false,
    "editable": false
   },
   "source": [
    "# Lab 8: Summarizing the *SARS-COV-2* genome\n",
    "\n",
    "In this lab we will use Biopython to summarize the *Severe acute respiratory syndrome coronavirus 2 (SARS-Cov-2)* genome.\n",
    "\n",
    "The entry has been downloaded from https://www.ncbi.nlm.nih.gov/nuccore/NC_045512 and saved as a text file which is available on the course page."
   ]
  },
  {
   "cell_type": "code",
   "execution_count": 1,
   "metadata": {
    "deletable": false,
    "editable": false
   },
   "outputs": [
    {
     "data": {
      "text/plain": [
       "SeqRecord(seq=Seq('ATTAAAGGTTTATACCTTCCCAGGTAACAAACCAACCAACTTTCGATCTCTTGT...AAA', IUPACAmbiguousDNA()), id='NC_045512.2', name='NC_045512', description='Wuhan seafood market pneumonia virus isolate Wuhan-Hu-1, complete genome', dbxrefs=['BioProject:PRJNA485481'])"
      ]
     },
     "execution_count": 1,
     "metadata": {},
     "output_type": "execute_result"
    }
   ],
   "source": [
    "from Bio import SeqIO # to parse sequence data\n",
    "\n",
    "with open('SARS-COV-2.gbk') as handle :\n",
    "    sequences = SeqIO.parse(handle, \"genbank\")\n",
    "    seq_record = next(sequences) # get the first sequence record\n",
    "\n",
    "seq_record"
   ]
  },
  {
   "cell_type": "markdown",
   "metadata": {
    "deletable": false,
    "editable": false
   },
   "source": [
    "### Find all protein products from CDS features\n",
    "\n",
    "For each CDS, output the gene name, protein id, and product in a table format that uses *f-strings* (see below) so that each column has a width of 20 characters. "
   ]
  },
  {
   "cell_type": "code",
   "execution_count": 2,
   "metadata": {},
   "outputs": [
    {
     "name": "stdout",
     "output_type": "stream",
     "text": [
      "GENE                Protein ID          Product             \n",
      "orf1ab              YP_009724389.1      orf1ab polyprotein  \n",
      "orf1ab              YP_009725295.1      orf1a polyprotein   \n",
      "S                   YP_009724390.1      surface glycoprotein\n",
      "ORF3a               YP_009724391.1      ORF3a protein       \n",
      "E                   YP_009724392.1      envelope protein    \n",
      "M                   YP_009724393.1      membrane glycoprotein\n",
      "ORF6                YP_009724394.1      ORF6 protein        \n",
      "ORF7a               YP_009724395.1      ORF7a protein       \n",
      "ORF7b               YP_009725296.1      ORF7b               \n",
      "ORF8                YP_009724396.1      ORF8 protein        \n",
      "N                   YP_009724397.2      nucleocapsid phosphoprotein\n",
      "ORF10               YP_009725255.1      ORF10 protein       \n"
     ]
    }
   ],
   "source": [
    "print(f'{\"GENE\":20}{\"Protein ID\":20}{\"Product\":20}')\n",
    "\n",
    "for feature in seq_record.features:\n",
    "    if feature.type == 'CDS':\n",
    "        gene = feature.qualifiers['gene'][0]\n",
    "        protein_id = feature.qualifiers['protein_id'][0]\n",
    "        product = feature.qualifiers['product'][0]\n",
    "        print(f'{gene:20}{protein_id:20}{product:20}')"
   ]
  },
  {
   "cell_type": "markdown",
   "metadata": {
    "deletable": false,
    "editable": false
   },
   "source": [
    "### Find all mature protein products of *orf1ab*\n",
    "\n",
    "The gene *orf1ab* is known as a *polyprotein*. A polyprotein is a gene that is translated into a single protein that is then cleaved (cut) into multiple proteins, which are then referred to as *mature peptides*. Output all of the mature peptides produced by *orf1ab*. Also use Python to count and then output the number of mature peptides produced by *orf1ab*."
   ]
  },
  {
   "cell_type": "code",
   "execution_count": 6,
   "metadata": {},
   "outputs": [
    {
     "name": "stdout",
     "output_type": "stream",
     "text": [
      "GENE                Protein ID          Product             \n",
      "orf1ab              YP_009725297.1      leader protein      \n",
      "orf1ab              YP_009725298.1      nsp2                \n",
      "orf1ab              YP_009725299.1      nsp3                \n",
      "orf1ab              YP_009725300.1      nsp4                \n",
      "orf1ab              YP_009725301.1      3C-like proteinase  \n",
      "orf1ab              YP_009725302.1      nsp6                \n",
      "orf1ab              YP_009725303.1      nsp7                \n",
      "orf1ab              YP_009725304.1      nsp8                \n",
      "orf1ab              YP_009725305.1      nsp9                \n",
      "orf1ab              YP_009725306.1      nsp10               \n",
      "orf1ab              YP_009725307.1      RNA-dependent RNA polymerase\n",
      "orf1ab              YP_009725308.1      helicase            \n",
      "orf1ab              YP_009725309.1      3'-to-5' exonuclease\n",
      "orf1ab              YP_009725310.1      endoRNAse           \n",
      "orf1ab              YP_009725311.1      2'-O-ribose methyltransferase\n",
      "orf1ab              YP_009725312.1      nsp11               \n",
      "\n",
      "Number of mature peptides from orf1ab: 42\n"
     ]
    }
   ],
   "source": [
    "count = 0\n",
    "print(f'{\"GENE\":20}{\"Protein ID\":20}{\"Product\":20}')\n",
    "print()\n",
    "\n",
    "for feature in seq_record.features:\n",
    "    if feature.type == 'mat_peptide':\n",
    "        if feature.qualifiers['gene'][0] == 'orf1ab':\n",
    "            count += 1\n",
    "            gene = feature.qualifiers['gene'][0]\n",
    "            protein_id = feature.qualifiers['protein_id'][0]\n",
    "            product = feature.qualifiers['product'][0]\n",
    "            print(f'{gene:20}{protein_id:20}{product:20}')\n",
    "print()\n",
    "print(f'Number of mature peptides from orf1ab: {count}')"
   ]
  },
  {
   "cell_type": "markdown",
   "metadata": {
    "deletable": false,
    "editable": false
   },
   "source": [
    "### Extracting viral RNA sequences for coronavirus testing\n",
    "\n",
    "Current tests for *SARS-COV-2* involve testing for the presence of viral RNA molecules. For example, \"the Stanford test screens first for the presence of viral RNA encoding a protein called an envelope protein, which is found in the membrane that surrounds the virus and plays an important role in the viral life cycle, including budding from an infected host cells. It then confirms the positive result by testing for a gene encoding a second protein called RNA-dependent RNA polymerase.\"\n",
    "\n",
    "Source: http://med.stanford.edu/news/all-news/2020/03/stanford-medicine-COVID-19-test-now-in-use.html\n",
    "\n",
    "**Question**: Output the RNA sequences for the *envelope protein* CDS and the *RNA-dependent RNA polymerase*, which is a *mature protein*. Note: you should output the gene sequences from the seq_record entry; these sequences are actually DNA sequences -- the viral RNA is identical but will have uracil instead of thymine.\n"
   ]
  },
  {
   "cell_type": "code",
   "execution_count": 24,
   "metadata": {},
   "outputs": [
    {
     "name": "stdout",
     "output_type": "stream",
     "text": [
      "======================RNA-DEPENDENT RNA POLYMERASE=========================\n",
      "UCAGCUGAUGCACAAUCGUUUUUAAAC\n",
      "\n",
      "CGGGUUUGCGGUGUAAGUGCAGCCCGUCUUACACCGUGCGGCACAGGCACUAGUACUGAUGUCGUAUACAGGGCUUUUGACAUCUACAAUGAUAAAGUAGCUGGUUUUGCUAAAUUCCUAAAAACUAAUUGUUGUCGCUUCCAAGAAAAGGACGAAGAUGACAAUUUAAUUGAUUCUUACUUUGUAGUUAAGAGACACACUUUCUCUAACUACCAACAUGAAGAAACAAUUUAUAAUUUACUUAAGGAUUGUCCAGCUGUUGCUAAACAUGACUUCUUUAAGUUUAGAAUAGACGGUGACAUGGUACCACAUAUAUCACGUCAACGUCUUACUAAAUACACAAUGGCAGACCUCGUCUAUGCUUUAAGGCAUUUUGAUGAAGGUAAUUGUGACACAUUAAAAGAAAUACUUGUCACAUACAAUUGUUGUGAUGAUGAUUAUUUCAAUAAAAAGGACUGGUAUGAUUUUGUAGAAAACCCAGAUAUAUUACGCGUAUACGCCAACUUAGGUGAACGUGUACGCCAAGCUUUGUUAAAAACAGUACAAUUCUGUGAUGCCAUGCGAAAUGCUGGUAUUGUUGGUGUACUGACAUUAGAUAAUCAAGAUCUCAAUGGUAACUGGUAUGAUUUCGGUGAUUUCAUACAAACCACGCCAGGUAGUGGAGUUCCUGUUGUAGAUUCUUAUUAUUCAUUGUUAAUGCCUAUAUUAACCUUGACCAGGGCUUUAACUGCAGAGUCACAUGUUGACACUGACUUAACAAAGCCUUACAUUAAGUGGGAUUUGUUAAAAUAUGACUUCACGGAAGAGAGGUUAAAACUCUUUGACCGUUAUUUUAAAUAUUGGGAUCAGACAUACCACCCAAAUUGUGUUAACUGUUUGGAUGACAGAUGCAUUCUGCAUUGUGCAAACUUUAAUGUUUUAUUCUCUACAGUGUUCCCACCUACAAGUUUUGGACCACUAGUGAGAAAAAUAUUUGUUGAUGGUGUUCCAUUUGUAGUUUCAACUGGAUACCACUUCAGAGAGCUAGGUGUUGUACAUAAUCAGGAUGUAAACUUACAUAGCUCUAGACUUAGUUUUAAGGAAUUACUUGUGUAUGCUGCUGACCCUGCUAUGCACGCUGCUUCUGGUAAUCUAUUACUAGAUAAACGCACUACGUGCUUUUCAGUAGCUGCACUUACUAACAAUGUUGCUUUUCAAACUGUCAAACCCGGUAAUUUUAACAAAGACUUCUAUGACUUUGCUGUGUCUAAGGGUUUCUUUAAGGAAGGAAGUUCUGUUGAAUUAAAACACUUCUUCUUUGCUCAGGAUGGUAAUGCUGCUAUCAGCGAUUAUGACUACUAUCGUUAUAAUCUACCAACAAUGUGUGAUAUCAGACAACUACUAUUUGUAGUUGAAGUUGUUGAUAAGUACUUUGAUUGUUACGAUGGUGGCUGUAUUAAUGCUAACCAAGUCAUCGUCAACAACCUAGACAAAUCAGCUGGUUUUCCAUUUAAUAAAUGGGGUAAGGCUAGACUUUAUUAUGAUUCAAUGAGUUAUGAGGAUCAAGAUGCACUUUUCGCAUAUACAAAACGUAAUGUCAUCCCUACUAUAACUCAAAUGAAUCUUAAGUAUGCCAUUAGUGCAAAGAAUAGAGCUCGCACCGUAGCUGGUGUCUCUAUCUGUAGUACUAUGACCAAUAGACAGUUUCAUCAAAAAUUAUUGAAAUCAAUAGCCGCCACUAGAGGAGCUACUGUAGUAAUUGGAACAAGCAAAUUCUAUGGUGGUUGGCACAACAUGUUAAAAACUGUUUAUAGUGAUGUAGAAAACCCUCACCUUAUGGGUUGGGAUUAUCCUAAAUGUGAUAGAGCCAUGCCUAACAUGCUUAGAAUUAUGGCCUCACUUGUUCUUGCUCGCAAACAUACAACGUGUUGUAGCUUGUCACACCGUUUCUAUAGAUUAGCUAAUGAGUGUGCUCAAGUAUUGAGUGAAAUGGUCAUGUGUGGCGGUUCACUAUAUGUUAAACCAGGUGGAACCUCAUCAGGAGAUGCCACAACUGCUUAUGCUAAUAGUGUUUUUAACAUUUGUCAAGCUGUCACGGCCAAUGUUAAUGCACUUUUAUCUACUGAUGGUAACAAAAUUGCCGAUAAGUAUGUCCGCAAUUUACAACACAGACUUUAUGAGUGUCUCUAUAGAAAUAGAGAUGUUGACACAGACUUUGUGAAUGAGUUUUACGCAUAUUUGCGUAAACAUUUCUCAAUGAUGAUACUCUCUGACGAUGCUGUUGUGUGUUUCAAUAGCACUUAUGCAUCUCAAGGUCUAGUGGCUAGCAUAAAGAACUUUAAGUCAGUUCUUUAUUAUCAAAACAAUGUUUUUAUGUCUGAAGCAAAAUGUUGGACUGAGACUGACCUUACUAAAGGACCUCAUGAAUUUUGCUCUCAACAUACAAUGCUAGUUAAACAGGGUGAUGAUUAUGUGUACCUUCCUUACCCAGAUCCAUCAAGAAUCCUAGGGGCCGGCUGUUUUGUAGAUGAUAUCGUAAAAACAGAUGGUACACUUAUGAUUGAACGGUUCGUGUCUUUAGCUAUAGAUGCUUACCCACUUACUAAACAUCCUAAUCAGGAGUAUGCUGAUGUCUUUCAUUUGUACUUACAAUACAUAAGAAAGCUACAUGAUGAGUUAACAGGACACAUGUUAGACAUGUAUUCUGUUAUGCUUACUAAUGAUAACACUUCAAGGUAUUGGGAACCUGAGUUUUAUGAGGCUAUGUACACACCGCAUACAGUCUUACAG\n",
      "\n",
      "============================ENVELOPE PROTEIN==============================\n",
      "AUGUACUCAUUCGUUUCGGAAGAGACAGGUACGUUAAUAGUUAAUAGCGUACUUCUUUUUCUUGCUUUCGUGGUAUUCUUGCUAGUUACACUAGCCAUCCUUACUGCGCUUCGAUUGUGUGCGUACUGCUGCAAUAUUGUUAACGUGAGUCUUGUAAAACCUUCUUUUUACGUUUACUCUCGUGUUAAAAAUCUGAAUUCUUCUAGAGUUCCUGAUCUUCUGGUCUAA\n",
      "\n"
     ]
    }
   ],
   "source": [
    "for feature in seq_record.features:\n",
    "    if feature.type == 'CDS' or feature.type == 'mat_peptide':\n",
    "        sequence = seq_record.seq\n",
    "        product = feature.qualifiers['product'][0]\n",
    "        gene = feature.qualifiers['gene'][0]\n",
    "        if 'RNA-dependent RNA polymerase' in product:\n",
    "            print('======================RNA-DEPENDENT RNA POLYMERASE=========================')\n",
    "            feature_locations = feature.location.parts\n",
    "            for location in feature_locations:\n",
    "                print(seq_record.seq[location.start:location.end].transcribe())\n",
    "                print()\n",
    "        elif 'envelope protein' in product:\n",
    "            print('============================ENVELOPE PROTEIN==============================')\n",
    "            feature_locations = feature.location\n",
    "            print(seq_record.seq[feature_locations.start:feature_locations.end].transcribe())\n",
    "            print()"
   ]
  },
  {
   "cell_type": "markdown",
   "metadata": {
    "deletable": false,
    "editable": false
   },
   "source": [
    "### Aside: f-strings\n",
    "\n",
    "An *f-string* is a formatted string in Python. Formatting includes specification of the width of the output, or specifying the number of decimal places for a decimal number. We will only worry about setting the output width here.\n",
    "\n",
    "The basic syntax of a formatted string is\n",
    "```\n",
    "f'text {value:format} more text'\n",
    "```\n",
    "\n",
    "where *value* is a string or the name of a variable, and format can be\n",
    "\n",
    "- a number, to denote the width (e.g., 10) (with default left-alignment)\n",
    "- a number, preceded by a '<' for left-alignment, a '^' for center-alignment, or a '>'for right-alignment\n",
    "\n",
    "The cell below demonstrates how to display 'hi' inside a block of 10 characters, where 'hi' is left-aligned, centered, or right-aligned."
   ]
  },
  {
   "cell_type": "code",
   "execution_count": null,
   "metadata": {
    "deletable": false,
    "editable": false
   },
   "outputs": [],
   "source": [
    "print(f'{\"hi\":<10}') # left-align\n",
    "print(f'{\"hi\":^10}') # center-align\n",
    "print(f'{\"hi\":>10}') # right-align"
   ]
  },
  {
   "cell_type": "markdown",
   "metadata": {
    "deletable": false,
    "editable": false
   },
   "source": [
    "We can also use *f-strings* to display the values of variables, as in the example below."
   ]
  },
  {
   "cell_type": "code",
   "execution_count": null,
   "metadata": {
    "deletable": false,
    "editable": false
   },
   "outputs": [],
   "source": [
    "fName = 'Jane'\n",
    "lName = 'Doe'\n",
    "print(f'Hello {fName} {lName}!')"
   ]
  }
 ],
 "metadata": {
  "kernelspec": {
   "display_name": "Python 3",
   "language": "python",
   "name": "python3"
  },
  "language_info": {
   "codemirror_mode": {
    "name": "ipython",
    "version": 3
   },
   "file_extension": ".py",
   "mimetype": "text/x-python",
   "name": "python",
   "nbconvert_exporter": "python",
   "pygments_lexer": "ipython3",
   "version": "3.7.4"
  }
 },
 "nbformat": 4,
 "nbformat_minor": 2
}
